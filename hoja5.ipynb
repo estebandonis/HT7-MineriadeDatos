{
 "cells": [
  {
   "cell_type": "code",
   "execution_count": 3,
   "metadata": {},
   "outputs": [
    {
     "ename": "ModuleNotFoundError",
     "evalue": "No module named 'statsmodels'",
     "output_type": "error",
     "traceback": [
      "\u001b[0;31m---------------------------------------------------------------------------\u001b[0m",
      "\u001b[0;31mModuleNotFoundError\u001b[0m                       Traceback (most recent call last)",
      "Cell \u001b[0;32mIn[3], line 5\u001b[0m\n\u001b[1;32m      3\u001b[0m \u001b[38;5;28;01mimport\u001b[39;00m \u001b[38;5;21;01mnumpy\u001b[39;00m \u001b[38;5;28;01mas\u001b[39;00m \u001b[38;5;21;01mnp\u001b[39;00m\n\u001b[1;32m      4\u001b[0m \u001b[38;5;28;01mimport\u001b[39;00m \u001b[38;5;21;01mrandom\u001b[39;00m\n\u001b[0;32m----> 5\u001b[0m \u001b[38;5;28;01mimport\u001b[39;00m \u001b[38;5;21;01mstatsmodels\u001b[39;00m\u001b[38;5;21;01m.\u001b[39;00m\u001b[38;5;21;01mapi\u001b[39;00m \u001b[38;5;28;01mas\u001b[39;00m \u001b[38;5;21;01msm\u001b[39;00m\n\u001b[1;32m      6\u001b[0m \u001b[38;5;28;01mimport\u001b[39;00m \u001b[38;5;21;01mstatsmodels\u001b[39;00m\u001b[38;5;21;01m.\u001b[39;00m\u001b[38;5;21;01mstats\u001b[39;00m\u001b[38;5;21;01m.\u001b[39;00m\u001b[38;5;21;01mdiagnostic\u001b[39;00m \u001b[38;5;28;01mas\u001b[39;00m \u001b[38;5;21;01msmd\u001b[39;00m\n\u001b[1;32m      7\u001b[0m \u001b[38;5;28;01mimport\u001b[39;00m \u001b[38;5;21;01mpandas\u001b[39;00m \u001b[38;5;28;01mas\u001b[39;00m \u001b[38;5;21;01mpd\u001b[39;00m\n",
      "\u001b[0;31mModuleNotFoundError\u001b[0m: No module named 'statsmodels'"
     ]
    }
   ],
   "source": [
    "%matplotlib inline\n",
    "import matplotlib.pyplot as plt\n",
    "import numpy as np\n",
    "import random\n",
    "# import statsmodels.api as sm\n",
    "# import statsmodels.stats.diagnostic as smd\n",
    "import pandas as pd\n",
    "from sklearn import datasets\n",
    "from sklearn.model_selection import train_test_split\n",
    "import seaborn as sns\n",
    "# import statsmodels.api as sm\n",
    "import scipy.stats as stats\n",
    "# import statsmodels.stats.diagnostic as diag\n",
    "from sklearn.naive_bayes import GaussianNB\n",
    "#Metrics\n",
    "from sklearn.metrics import make_scorer, accuracy_score,precision_score,recall_score,f1_score\n",
    "from sklearn.metrics import classification_report\n",
    "from sklearn.metrics import confusion_matrix\n",
    "from sklearn.metrics import root_mean_squared_error\n",
    "from sklearn.compose import make_column_selector as selector\n",
    "from sklearn.compose import ColumnTransformer\n",
    "from sklearn.preprocessing import StandardScaler\n",
    "from sklearn.preprocessing import OneHotEncoder\n",
    "from sklearn.pipeline import Pipeline\n",
    "from sklearn.model_selection import GridSearchCV\n",
    "\n",
    "plt.rcParams['figure.figsize'] = (15, 9)\n",
    "plt.style.use('ggplot')\n",
    "random.seed(123)"
   ]
  },
  {
   "cell_type": "code",
   "execution_count": null,
   "metadata": {},
   "outputs": [
    {
     "data": {
      "text/html": [
       "<div>\n",
       "<style scoped>\n",
       "    .dataframe tbody tr th:only-of-type {\n",
       "        vertical-align: middle;\n",
       "    }\n",
       "\n",
       "    .dataframe tbody tr th {\n",
       "        vertical-align: top;\n",
       "    }\n",
       "\n",
       "    .dataframe thead th {\n",
       "        text-align: right;\n",
       "    }\n",
       "</style>\n",
       "<table border=\"1\" class=\"dataframe\">\n",
       "  <thead>\n",
       "    <tr style=\"text-align: right;\">\n",
       "      <th></th>\n",
       "      <th>Id</th>\n",
       "      <th>MSSubClass</th>\n",
       "      <th>MSZoning</th>\n",
       "      <th>LotFrontage</th>\n",
       "      <th>LotArea</th>\n",
       "      <th>Street</th>\n",
       "      <th>Alley</th>\n",
       "      <th>LotShape</th>\n",
       "      <th>LandContour</th>\n",
       "      <th>Utilities</th>\n",
       "      <th>...</th>\n",
       "      <th>PoolArea</th>\n",
       "      <th>PoolQC</th>\n",
       "      <th>Fence</th>\n",
       "      <th>MiscFeature</th>\n",
       "      <th>MiscVal</th>\n",
       "      <th>MoSold</th>\n",
       "      <th>YrSold</th>\n",
       "      <th>SaleType</th>\n",
       "      <th>SaleCondition</th>\n",
       "      <th>SalePrice</th>\n",
       "    </tr>\n",
       "  </thead>\n",
       "  <tbody>\n",
       "    <tr>\n",
       "      <th>0</th>\n",
       "      <td>1</td>\n",
       "      <td>60</td>\n",
       "      <td>RL</td>\n",
       "      <td>65.0</td>\n",
       "      <td>8450</td>\n",
       "      <td>Pave</td>\n",
       "      <td>NaN</td>\n",
       "      <td>Reg</td>\n",
       "      <td>Lvl</td>\n",
       "      <td>AllPub</td>\n",
       "      <td>...</td>\n",
       "      <td>0</td>\n",
       "      <td>NaN</td>\n",
       "      <td>NaN</td>\n",
       "      <td>NaN</td>\n",
       "      <td>0</td>\n",
       "      <td>2</td>\n",
       "      <td>2008</td>\n",
       "      <td>WD</td>\n",
       "      <td>Normal</td>\n",
       "      <td>208500</td>\n",
       "    </tr>\n",
       "    <tr>\n",
       "      <th>1</th>\n",
       "      <td>2</td>\n",
       "      <td>20</td>\n",
       "      <td>RL</td>\n",
       "      <td>80.0</td>\n",
       "      <td>9600</td>\n",
       "      <td>Pave</td>\n",
       "      <td>NaN</td>\n",
       "      <td>Reg</td>\n",
       "      <td>Lvl</td>\n",
       "      <td>AllPub</td>\n",
       "      <td>...</td>\n",
       "      <td>0</td>\n",
       "      <td>NaN</td>\n",
       "      <td>NaN</td>\n",
       "      <td>NaN</td>\n",
       "      <td>0</td>\n",
       "      <td>5</td>\n",
       "      <td>2007</td>\n",
       "      <td>WD</td>\n",
       "      <td>Normal</td>\n",
       "      <td>181500</td>\n",
       "    </tr>\n",
       "    <tr>\n",
       "      <th>2</th>\n",
       "      <td>3</td>\n",
       "      <td>60</td>\n",
       "      <td>RL</td>\n",
       "      <td>68.0</td>\n",
       "      <td>11250</td>\n",
       "      <td>Pave</td>\n",
       "      <td>NaN</td>\n",
       "      <td>IR1</td>\n",
       "      <td>Lvl</td>\n",
       "      <td>AllPub</td>\n",
       "      <td>...</td>\n",
       "      <td>0</td>\n",
       "      <td>NaN</td>\n",
       "      <td>NaN</td>\n",
       "      <td>NaN</td>\n",
       "      <td>0</td>\n",
       "      <td>9</td>\n",
       "      <td>2008</td>\n",
       "      <td>WD</td>\n",
       "      <td>Normal</td>\n",
       "      <td>223500</td>\n",
       "    </tr>\n",
       "    <tr>\n",
       "      <th>3</th>\n",
       "      <td>4</td>\n",
       "      <td>70</td>\n",
       "      <td>RL</td>\n",
       "      <td>60.0</td>\n",
       "      <td>9550</td>\n",
       "      <td>Pave</td>\n",
       "      <td>NaN</td>\n",
       "      <td>IR1</td>\n",
       "      <td>Lvl</td>\n",
       "      <td>AllPub</td>\n",
       "      <td>...</td>\n",
       "      <td>0</td>\n",
       "      <td>NaN</td>\n",
       "      <td>NaN</td>\n",
       "      <td>NaN</td>\n",
       "      <td>0</td>\n",
       "      <td>2</td>\n",
       "      <td>2006</td>\n",
       "      <td>WD</td>\n",
       "      <td>Abnorml</td>\n",
       "      <td>140000</td>\n",
       "    </tr>\n",
       "    <tr>\n",
       "      <th>4</th>\n",
       "      <td>5</td>\n",
       "      <td>60</td>\n",
       "      <td>RL</td>\n",
       "      <td>84.0</td>\n",
       "      <td>14260</td>\n",
       "      <td>Pave</td>\n",
       "      <td>NaN</td>\n",
       "      <td>IR1</td>\n",
       "      <td>Lvl</td>\n",
       "      <td>AllPub</td>\n",
       "      <td>...</td>\n",
       "      <td>0</td>\n",
       "      <td>NaN</td>\n",
       "      <td>NaN</td>\n",
       "      <td>NaN</td>\n",
       "      <td>0</td>\n",
       "      <td>12</td>\n",
       "      <td>2008</td>\n",
       "      <td>WD</td>\n",
       "      <td>Normal</td>\n",
       "      <td>250000</td>\n",
       "    </tr>\n",
       "  </tbody>\n",
       "</table>\n",
       "<p>5 rows × 81 columns</p>\n",
       "</div>"
      ],
      "text/plain": [
       "   Id  MSSubClass MSZoning  LotFrontage  LotArea Street Alley LotShape  \\\n",
       "0   1          60       RL         65.0     8450   Pave   NaN      Reg   \n",
       "1   2          20       RL         80.0     9600   Pave   NaN      Reg   \n",
       "2   3          60       RL         68.0    11250   Pave   NaN      IR1   \n",
       "3   4          70       RL         60.0     9550   Pave   NaN      IR1   \n",
       "4   5          60       RL         84.0    14260   Pave   NaN      IR1   \n",
       "\n",
       "  LandContour Utilities  ... PoolArea PoolQC Fence MiscFeature MiscVal MoSold  \\\n",
       "0         Lvl    AllPub  ...        0    NaN   NaN         NaN       0      2   \n",
       "1         Lvl    AllPub  ...        0    NaN   NaN         NaN       0      5   \n",
       "2         Lvl    AllPub  ...        0    NaN   NaN         NaN       0      9   \n",
       "3         Lvl    AllPub  ...        0    NaN   NaN         NaN       0      2   \n",
       "4         Lvl    AllPub  ...        0    NaN   NaN         NaN       0     12   \n",
       "\n",
       "  YrSold  SaleType  SaleCondition  SalePrice  \n",
       "0   2008        WD         Normal     208500  \n",
       "1   2007        WD         Normal     181500  \n",
       "2   2008        WD         Normal     223500  \n",
       "3   2006        WD        Abnorml     140000  \n",
       "4   2008        WD         Normal     250000  \n",
       "\n",
       "[5 rows x 81 columns]"
      ]
     },
     "execution_count": 499,
     "metadata": {},
     "output_type": "execute_result"
    }
   ],
   "source": [
    "houses_df = pd.read_csv('train.csv')\n",
    "\n",
    "houses_df.head()"
   ]
  },
  {
   "cell_type": "markdown",
   "metadata": {},
   "source": [
    "Calculamos la cantidad de null values que tengan nuestros datos y en que variables"
   ]
  },
  {
   "cell_type": "code",
   "execution_count": null,
   "metadata": {},
   "outputs": [
    {
     "name": "stdout",
     "output_type": "stream",
     "text": [
      "LotFrontage      259\n",
      "Alley           1369\n",
      "MasVnrType       872\n",
      "MasVnrArea         8\n",
      "BsmtQual          37\n",
      "BsmtCond          37\n",
      "BsmtExposure      38\n",
      "BsmtFinType1      37\n",
      "BsmtFinType2      38\n",
      "Electrical         1\n",
      "FireplaceQu      690\n",
      "GarageType        81\n",
      "GarageYrBlt       81\n",
      "GarageFinish      81\n",
      "GarageQual        81\n",
      "GarageCond        81\n",
      "PoolQC          1453\n",
      "Fence           1179\n",
      "MiscFeature     1406\n",
      "dtype: int64\n"
     ]
    }
   ],
   "source": [
    "null_counts = houses_df.isnull().sum()\n",
    "# print(null_counts)\n",
    "null_counts = null_counts[null_counts > 0]\n",
    "print(null_counts)"
   ]
  },
  {
   "cell_type": "markdown",
   "metadata": {},
   "source": [
    "Reemplazamos los valores de las variables categoricas a números y rellenamos los null values con ceros"
   ]
  },
  {
   "cell_type": "code",
   "execution_count": null,
   "metadata": {},
   "outputs": [
    {
     "name": "stdout",
     "output_type": "stream",
     "text": [
      "LotFrontage\n",
      "Alley\n",
      "MasVnrType\n",
      "MasVnrArea\n",
      "BsmtQual\n",
      "BsmtCond\n",
      "BsmtExposure\n",
      "BsmtFinType1\n",
      "BsmtFinType2\n",
      "Electrical\n",
      "FireplaceQu\n",
      "GarageType\n",
      "GarageYrBlt\n",
      "GarageFinish\n",
      "GarageQual\n",
      "GarageCond\n",
      "PoolQC\n",
      "Fence\n",
      "MiscFeature\n"
     ]
    }
   ],
   "source": [
    "for i in null_counts.index:\n",
    "    print(i)\n",
    "    houses_df = houses_df.apply(pd.to_numeric, errors='coerce')\n",
    "    houses_df = houses_df.fillna(0)"
   ]
  },
  {
   "cell_type": "markdown",
   "metadata": {},
   "source": [
    "Verificamos si hay valores atípicos en nuestro dataset"
   ]
  },
  {
   "cell_type": "code",
   "execution_count": null,
   "metadata": {},
   "outputs": [
    {
     "data": {
      "text/plain": [
       "<Axes: >"
      ]
     },
     "execution_count": 502,
     "metadata": {},
     "output_type": "execute_result"
    },
    {
     "data": {
      "image/png": "[encoded data removed]",
      "text/plain": [
       "<Figure size 1500x900 with 1 Axes>"
      ]
     },
     "metadata": {},
     "output_type": "display_data"
    }
   ],
   "source": [
    "houses_df.boxplot()"
   ]
  },
  {
   "cell_type": "markdown",
   "metadata": {},
   "source": [
    "Vemos que tenemos 2 campos con valores atípicos"
   ]
  },
  {
   "cell_type": "code",
   "execution_count": null,
   "metadata": {},
   "outputs": [
    {
     "data": {
      "text/plain": [
       "<Axes: >"
      ]
     },
     "execution_count": 503,
     "metadata": {},
     "output_type": "execute_result"
    },
    {
     "data": {
      "image/png": "[encoded data removed]",
      "text/plain": [
       "<Figure size 1500x900 with 1 Axes>"
      ]
     },
     "metadata": {},
     "output_type": "display_data"
    }
   ],
   "source": [
    "houses_df[[\"SalePrice\", \"LotArea\"]].boxplot()"
   ]
  },
  {
   "cell_type": "markdown",
   "metadata": {},
   "source": [
    "Eliminamos los valores que puedan arruinar nuestras predicciones"
   ]
  },
  {
   "cell_type": "code",
   "execution_count": null,
   "metadata": {},
   "outputs": [],
   "source": [
    "houses_df = houses_df[houses_df[\"SalePrice\"] < 700000]\n",
    "houses_df = houses_df[houses_df[\"LotArea\"] < 100000]"
   ]
  },
  {
   "cell_type": "markdown",
   "metadata": {},
   "source": [
    "Separamos nuestras variables de las variables objetivo"
   ]
  },
  {
   "cell_type": "code",
   "execution_count": null,
   "metadata": {},
   "outputs": [],
   "source": [
    "# Define the target\n",
    "y = houses_df.pop('SalePrice')\n",
    "\n",
    "# Remove the target from the current DataFrame\n",
    "X = houses_df\n",
    "random.seed(1234)"
   ]
  },
  {
   "cell_type": "markdown",
   "metadata": {},
   "source": [
    "Hacemos la división de nuestro set de datos"
   ]
  },
  {
   "cell_type": "code",
   "execution_count": null,
   "metadata": {},
   "outputs": [],
   "source": [
    "X_train, X_test,y_train, y_test = train_test_split(X, y,test_size=0.3,train_size=0.7)"
   ]
  },
  {
   "cell_type": "markdown",
   "metadata": {},
   "source": [
    "Separamos nuestras variables en categoricas y numéricas"
   ]
  },
  {
   "cell_type": "code",
   "execution_count": null,
   "metadata": {},
   "outputs": [],
   "source": [
    "numerical_columns_selector = selector(dtype_exclude=object)\n",
    "categorical_columns_selector = selector(dtype_include=object)\n",
    "\n",
    "numerical_columns = numerical_columns_selector(houses_df)\n",
    "categorical_columns = categorical_columns_selector(houses_df)"
   ]
  },
  {
   "cell_type": "code",
   "execution_count": null,
   "metadata": {},
   "outputs": [],
   "source": [
    "categorical_preprocessor = OneHotEncoder(handle_unknown=\"ignore\")\n",
    "numerical_preprocessor = StandardScaler()\n",
    "preprocessor = ColumnTransformer([\n",
    "    ('one-hot-encoder', categorical_preprocessor, categorical_columns),\n",
    "    ('standar-scaler', numerical_preprocessor,numerical_columns)\n",
    "    ])"
   ]
  },
  {
   "cell_type": "code",
   "execution_count": null,
   "metadata": {},
   "outputs": [
    {
     "data": {
      "text/plain": [
       "{'memory': None,\n",
       " 'steps': [('preprocessor',\n",
       "   ColumnTransformer(transformers=[('one-hot-encoder',\n",
       "                                    OneHotEncoder(handle_unknown='ignore'), []),\n",
       "                                   ('standar-scaler', StandardScaler(),\n",
       "                                    ['Id', 'MSSubClass', 'MSZoning', 'LotFrontage',\n",
       "                                     'LotArea', 'Street', 'Alley', 'LotShape',\n",
       "                                     'LandContour', 'Utilities', 'LotConfig',\n",
       "                                     'LandSlope', 'Neighborhood', 'Condition1',\n",
       "                                     'Condition2', 'BldgType', 'HouseStyle',\n",
       "                                     'OverallQual', 'OverallCond', 'YearBuilt',\n",
       "                                     'YearRemodAdd', 'RoofStyle', 'RoofMatl',\n",
       "                                     'Exterior1st', 'Exterior2nd', 'MasVnrType',\n",
       "                                     'MasVnrArea', 'ExterQual', 'ExterCond',\n",
       "                                     'Foundation', ...])])),\n",
       "  ('regressor', GaussianNB())],\n",
       " 'verbose': False,\n",
       " 'preprocessor': ColumnTransformer(transformers=[('one-hot-encoder',\n",
       "                                  OneHotEncoder(handle_unknown='ignore'), []),\n",
       "                                 ('standar-scaler', StandardScaler(),\n",
       "                                  ['Id', 'MSSubClass', 'MSZoning', 'LotFrontage',\n",
       "                                   'LotArea', 'Street', 'Alley', 'LotShape',\n",
       "                                   'LandContour', 'Utilities', 'LotConfig',\n",
       "                                   'LandSlope', 'Neighborhood', 'Condition1',\n",
       "                                   'Condition2', 'BldgType', 'HouseStyle',\n",
       "                                   'OverallQual', 'OverallCond', 'YearBuilt',\n",
       "                                   'YearRemodAdd', 'RoofStyle', 'RoofMatl',\n",
       "                                   'Exterior1st', 'Exterior2nd', 'MasVnrType',\n",
       "                                   'MasVnrArea', 'ExterQual', 'ExterCond',\n",
       "                                   'Foundation', ...])]),\n",
       " 'regressor': GaussianNB(),\n",
       " 'preprocessor__n_jobs': None,\n",
       " 'preprocessor__remainder': 'drop',\n",
       " 'preprocessor__sparse_threshold': 0.3,\n",
       " 'preprocessor__transformer_weights': None,\n",
       " 'preprocessor__transformers': [('one-hot-encoder',\n",
       "   OneHotEncoder(handle_unknown='ignore'),\n",
       "   []),\n",
       "  ('standar-scaler',\n",
       "   StandardScaler(),\n",
       "   ['Id',\n",
       "    'MSSubClass',\n",
       "    'MSZoning',\n",
       "    'LotFrontage',\n",
       "    'LotArea',\n",
       "    'Street',\n",
       "    'Alley',\n",
       "    'LotShape',\n",
       "    'LandContour',\n",
       "    'Utilities',\n",
       "    'LotConfig',\n",
       "    'LandSlope',\n",
       "    'Neighborhood',\n",
       "    'Condition1',\n",
       "    'Condition2',\n",
       "    'BldgType',\n",
       "    'HouseStyle',\n",
       "    'OverallQual',\n",
       "    'OverallCond',\n",
       "    'YearBuilt',\n",
       "    'YearRemodAdd',\n",
       "    'RoofStyle',\n",
       "    'RoofMatl',\n",
       "    'Exterior1st',\n",
       "    'Exterior2nd',\n",
       "    'MasVnrType',\n",
       "    'MasVnrArea',\n",
       "    'ExterQual',\n",
       "    'ExterCond',\n",
       "    'Foundation',\n",
       "    'BsmtQual',\n",
       "    'BsmtCond',\n",
       "    'BsmtExposure',\n",
       "    'BsmtFinType1',\n",
       "    'BsmtFinSF1',\n",
       "    'BsmtFinType2',\n",
       "    'BsmtFinSF2',\n",
       "    'BsmtUnfSF',\n",
       "    'TotalBsmtSF',\n",
       "    'Heating',\n",
       "    'HeatingQC',\n",
       "    'CentralAir',\n",
       "    'Electrical',\n",
       "    '1stFlrSF',\n",
       "    '2ndFlrSF',\n",
       "    'LowQualFinSF',\n",
       "    'GrLivArea',\n",
       "    'BsmtFullBath',\n",
       "    'BsmtHalfBath',\n",
       "    'FullBath',\n",
       "    'HalfBath',\n",
       "    'BedroomAbvGr',\n",
       "    'KitchenAbvGr',\n",
       "    'KitchenQual',\n",
       "    'TotRmsAbvGrd',\n",
       "    'Functional',\n",
       "    'Fireplaces',\n",
       "    'FireplaceQu',\n",
       "    'GarageType',\n",
       "    'GarageYrBlt',\n",
       "    'GarageFinish',\n",
       "    'GarageCars',\n",
       "    'GarageArea',\n",
       "    'GarageQual',\n",
       "    'GarageCond',\n",
       "    'PavedDrive',\n",
       "    'WoodDeckSF',\n",
       "    'OpenPorchSF',\n",
       "    'EnclosedPorch',\n",
       "    '3SsnPorch',\n",
       "    'ScreenPorch',\n",
       "    'PoolArea',\n",
       "    'PoolQC',\n",
       "    'Fence',\n",
       "    'MiscFeature',\n",
       "    'MiscVal',\n",
       "    'MoSold',\n",
       "    'YrSold',\n",
       "    'SaleType',\n",
       "    'SaleCondition'])],\n",
       " 'preprocessor__verbose': False,\n",
       " 'preprocessor__verbose_feature_names_out': True,\n",
       " 'preprocessor__one-hot-encoder': OneHotEncoder(handle_unknown='ignore'),\n",
       " 'preprocessor__standar-scaler': StandardScaler(),\n",
       " 'preprocessor__one-hot-encoder__categories': 'auto',\n",
       " 'preprocessor__one-hot-encoder__drop': None,\n",
       " 'preprocessor__one-hot-encoder__dtype': numpy.float64,\n",
       " 'preprocessor__one-hot-encoder__feature_name_combiner': 'concat',\n",
       " 'preprocessor__one-hot-encoder__handle_unknown': 'ignore',\n",
       " 'preprocessor__one-hot-encoder__max_categories': None,\n",
       " 'preprocessor__one-hot-encoder__min_frequency': None,\n",
       " 'preprocessor__one-hot-encoder__sparse_output': True,\n",
       " 'preprocessor__standar-scaler__copy': True,\n",
       " 'preprocessor__standar-scaler__with_mean': True,\n",
       " 'preprocessor__standar-scaler__with_std': True,\n",
       " 'regressor__priors': None,\n",
       " 'regressor__var_smoothing': 1e-09}"
      ]
     },
     "execution_count": 509,
     "metadata": {},
     "output_type": "execute_result"
    }
   ],
   "source": [
    "#param_grid = {\"max_depth\": np.arange(2, 10, 1)}\n",
    "pipeline = Pipeline(\n",
    "    [('preprocessor',preprocessor),\n",
    "     ('regressor',GaussianNB())])\n",
    "#params = [{\n",
    "#    \"regressor__max_depth\": np.arange(2, 10, 1)\n",
    "#}]\n",
    "pipeline.get_params()"
   ]
  },
  {
   "cell_type": "markdown",
   "metadata": {},
   "source": [
    "Realizamos la predicción de nuestro modelo"
   ]
  },
  {
   "cell_type": "code",
   "execution_count": null,
   "metadata": {},
   "outputs": [],
   "source": [
    "modelo = pipeline.fit(X_train,y_train)\n",
    "y_pred = modelo.predict(X_test)\n",
    "rmse = root_mean_squared_error(y_test,y_pred)"
   ]
  },
  {
   "cell_type": "code",
   "execution_count": null,
   "metadata": {},
   "outputs": [
    {
     "name": "stdout",
     "output_type": "stream",
     "text": [
      "Valor mínimo:  34900\n",
      "Valor máximo:  625000\n",
      "Desviación estándar:  76434.20276151803\n",
      "Valor RMSE:  49254.11595868769\n"
     ]
    }
   ],
   "source": [
    "minimo = y.min()\n",
    "print(\"Valor mínimo: \", minimo)\n",
    "maximo = y.max()\n",
    "print(\"Valor máximo: \", maximo)\n",
    "\n",
    "std_dev = np.std(y)\n",
    "print(\"Desviación estándar: \", std_dev)\n",
    "\n",
    "print(\"Valor RMSE: \", rmse)"
   ]
  },
  {
   "cell_type": "code",
   "execution_count": null,
   "metadata": {},
   "outputs": [
    {
     "name": "stdout",
     "output_type": "stream",
     "text": [
      "RMSE Scores: [26293.28274288 24699.14204321 29634.69105521 36936.66703891\n",
      " 34571.90212822]\n",
      "RMSE Mean: 30427.13700168659\n",
      "RMSE Standard Deviation: 4692.114813494421\n"
     ]
    }
   ],
   "source": [
    "\n",
    "# Try a different model\n",
    "from sklearn.model_selection import cross_val_score\n",
    "from sklearn.ensemble import RandomForestRegressor\n",
    "import numpy as np\n",
    "\n",
    "model = RandomForestRegressor(n_estimators=100, random_state=42)\n",
    "\n",
    "# Use cross-validation\n",
    "scores = cross_val_score(model, X_train, y_train, cv=5, scoring='neg_mean_squared_error')\n",
    "\n",
    "# Take the square root and make positive (because cross_val_score returns negative values for MSE)\n",
    "rmse_scores = np.sqrt(-scores)\n",
    "\n",
    "print(\"RMSE Scores:\", rmse_scores)\n",
    "print(\"RMSE Mean:\", rmse_scores.mean())\n",
    "print(\"RMSE Standard Deviation:\", rmse_scores.std())"
   ]
  },
  {
   "cell_type": "markdown",
   "metadata": {},
   "source": [
    "Sacamos la variable categórica del SalePrice"
   ]
  },
  {
   "cell_type": "code",
   "execution_count": null,
   "metadata": {},
   "outputs": [
    {
     "name": "stdout",
     "output_type": "stream",
     "text": [
      "LotFrontage\n",
      "Alley\n",
      "MasVnrType\n",
      "MasVnrArea\n",
      "BsmtQual\n",
      "BsmtCond\n",
      "BsmtExposure\n",
      "BsmtFinType1\n",
      "BsmtFinType2\n",
      "Electrical\n",
      "FireplaceQu\n",
      "GarageType\n",
      "GarageYrBlt\n",
      "GarageFinish\n",
      "GarageQual\n",
      "GarageCond\n",
      "PoolQC\n",
      "Fence\n",
      "MiscFeature\n"
     ]
    },
    {
     "data": {
      "image/png": "[encoded data removed]",
      "text/plain": [
       "<Figure size 1500x900 with 1 Axes>"
      ]
     },
     "metadata": {},
     "output_type": "display_data"
    }
   ],
   "source": [
    "houses_df = pd.read_csv('train.csv', encoding='latin1')\n",
    "\n",
    "for i in null_counts.index:\n",
    "    print(i)\n",
    "    houses_df = houses_df.apply(pd.to_numeric, errors='coerce')\n",
    "    houses_df = houses_df.fillna(0)\n",
    "\n",
    "# Define the number of categories\n",
    "num_categories = 3\n",
    "\n",
    "# Define the category names\n",
    "category_names = ['Economica', 'Intermedia', 'Cara']\n",
    "\n",
    "# Create a new column in the DataFrame for the categories\n",
    "houses_df['Precio_Categoria'] = pd.qcut(houses_df['SalePrice'], q=num_categories, labels=category_names)\n",
    "\n",
    "# Verificar la distribución de las categorías\n",
    "plt.bar(houses_df['Precio_Categoria'].value_counts().index, houses_df['Precio_Categoria'].value_counts().values)\n",
    "plt.xlabel('Categoría de Precio')\n",
    "plt.ylabel('Número de Casas')\n",
    "plt.title('Distribución de Categorías de Precio')\n",
    "plt.show()"
   ]
  },
  {
   "cell_type": "code",
   "execution_count": null,
   "metadata": {},
   "outputs": [
    {
     "ename": "NameError",
     "evalue": "name 'houses_df' is not defined",
     "output_type": "error",
     "traceback": [
      "\u001b[0;31m---------------------------------------------------------------------------\u001b[0m",
      "\u001b[0;31mNameError\u001b[0m                                 Traceback (most recent call last)",
      "Cell \u001b[0;32mIn[1], line 8\u001b[0m\n\u001b[1;32m      6\u001b[0m \u001b[38;5;66;03m# Codificar la variable categórica\u001b[39;00m\n\u001b[1;32m      7\u001b[0m le \u001b[38;5;241m=\u001b[39m LabelEncoder()\n\u001b[0;32m----> 8\u001b[0m houses_df[\u001b[38;5;124m'\u001b[39m\u001b[38;5;124mPrecio_Categoria\u001b[39m\u001b[38;5;124m'\u001b[39m] \u001b[38;5;241m=\u001b[39m le\u001b[38;5;241m.\u001b[39mfit_transform(\u001b[43mhouses_df\u001b[49m[\u001b[38;5;124m'\u001b[39m\u001b[38;5;124mPrecio_Categoria\u001b[39m\u001b[38;5;124m'\u001b[39m])\n\u001b[1;32m     10\u001b[0m \u001b[38;5;66;03m# Dividir los datos en conjuntos de entrenamiento y prueba\u001b[39;00m\n\u001b[1;32m     11\u001b[0m X \u001b[38;5;241m=\u001b[39m houses_df\u001b[38;5;241m.\u001b[39mdrop([\u001b[38;5;124m'\u001b[39m\u001b[38;5;124mPrecio_Categoria\u001b[39m\u001b[38;5;124m'\u001b[39m, \u001b[38;5;124m'\u001b[39m\u001b[38;5;124mSalePrice\u001b[39m\u001b[38;5;124m'\u001b[39m], axis\u001b[38;5;241m=\u001b[39m\u001b[38;5;241m1\u001b[39m)  \u001b[38;5;66;03m# Excluir 'SalePrice' de las características\u001b[39;00m\n",
      "\u001b[0;31mNameError\u001b[0m: name 'houses_df' is not defined"
     ]
    }
   ],
   "source": [
    "from sklearn.model_selection import train_test_split, GridSearchCV\n",
    "from sklearn.tree import DecisionTreeClassifier\n",
    "from sklearn.metrics import classification_report\n",
    "from sklearn.preprocessing import LabelEncoder\n",
    "\n",
    "# Codificar la variable categórica\n",
    "le = LabelEncoder()\n",
    "houses_df['Precio_Categoria'] = le.fit_transform(houses_df['Precio_Categoria'])\n",
    "\n",
    "# Dividir los datos en conjuntos de entrenamiento y prueba\n",
    "X = houses_df.drop(['Precio_Categoria', 'SalePrice'], axis=1)  # Excluir 'SalePrice' de las características\n",
    "y = houses_df['Precio_Categoria']\n",
    "X_train, X_test, y_train, y_test = train_test_split(X, y, test_size=0.2, random_state=42)\n",
    "\n",
    "# Definir los hiperparámetros a probar\n",
    "param_grid = {\n",
    "    'max_depth': [None, 5, 10, 15],\n",
    "    'min_samples_split': [2, 5, 10],\n",
    "    'min_samples_leaf': [1, 2, 4]\n",
    "}\n",
    "\n",
    "# Crear el modelo de árbol de decisión\n",
    "model = DecisionTreeClassifier(random_state=42)\n",
    "\n",
    "# Realizar la búsqueda de cuadrícula con validación cruzada\n",
    "grid_search = GridSearchCV(estimator=model, param_grid=param_grid, cv=5)\n",
    "grid_search.fit(X_train, y_train)\n",
    "\n",
    "# Obtener los mejores hiperparámetros y el mejor modelo\n",
    "best_params = grid_search.best_params_\n",
    "best_model = grid_search.best_estimator_\n",
    "\n",
    "# Imprimir los mejores hiperparámetros y la precisión del mejor modelo\n",
    "print(\"Mejores hiperparámetros:\", best_params)\n",
    "print(\"Precisión del mejor modelo:\", grid_search.best_score_)\n",
    "\n",
    "# Hacer predicciones en el conjunto de prueba utilizando el mejor modelo\n",
    "y_pred = best_model.predict(X_test)\n",
    "\n",
    "# Imprimir el informe de clasificación\n",
    "print(classification_report(y_test, y_pred))\n"
   ]
  },
  {
   "cell_type": "code",
   "execution_count": null,
   "metadata": {},
   "outputs": [
    {
     "name": "stdout",
     "output_type": "stream",
     "text": [
      "              precision    recall  f1-score   support\n",
      "\n",
      "           0       1.00      1.00      1.00        94\n",
      "           1       1.00      1.00      1.00       110\n",
      "           2       1.00      1.00      1.00        88\n",
      "\n",
      "    accuracy                           1.00       292\n",
      "   macro avg       1.00      1.00      1.00       292\n",
      "weighted avg       1.00      1.00      1.00       292\n",
      "\n"
     ]
    }
   ],
   "source": [
    "from sklearn.model_selection import train_test_split\n",
    "from sklearn.tree import DecisionTreeClassifier\n",
    "from sklearn.metrics import classification_report\n",
    "from sklearn.preprocessing import LabelEncoder\n",
    "\n",
    "# Codificar la variable categórica\n",
    "le = LabelEncoder()\n",
    "houses_df['Precio_Categoria'] = le.fit_transform(houses_df['Precio_Categoria'])\n",
    "\n",
    "# Dividir los datos en conjuntos de entrenamiento y prueba\n",
    "X_train, X_test, y_train, y_test = train_test_split(houses_df.drop('Precio_Categoria', axis=1), houses_df['Precio_Categoria'], test_size=0.2, random_state=42)\n",
    "\n",
    "# Crear y ajustar el modelo\n",
    "model = DecisionTreeClassifier()\n",
    "model.fit(X_train, y_train)\n",
    "\n",
    "# Hacer predicciones en el conjunto de prueba\n",
    "y_pred = model.predict(X_test)\n",
    "\n",
    "# Imprimir el informe de clasificación\n",
    "print(classification_report(y_test, y_pred))"
   ]
  },
  {
   "cell_type": "markdown",
   "metadata": {},
   "source": [
    "Convertimos los valores de la variable categórica en valores numéricos"
   ]
  },
  {
   "cell_type": "code",
   "execution_count": null,
   "metadata": {},
   "outputs": [
    {
     "data": {
      "text/plain": [
       "0       0\n",
       "1       2\n",
       "2       0\n",
       "3       2\n",
       "4       0\n",
       "       ..\n",
       "1455    2\n",
       "1456    0\n",
       "1457    0\n",
       "1458    2\n",
       "1459    2\n",
       "Name: Precio_Categoria, Length: 1460, dtype: int64"
      ]
     },
     "execution_count": 515,
     "metadata": {},
     "output_type": "execute_result"
    }
   ],
   "source": [
    "from sklearn.preprocessing import LabelEncoder\n",
    "\n",
    "# Create a LabelEncoder object\n",
    "le = LabelEncoder()\n",
    "\n",
    "# Fit and transform the 'Precio_Categoria' column\n",
    "houses_df['Precio_Categoria'] = le.fit_transform(houses_df['Precio_Categoria'])\n",
    "\n",
    "houses_df['Precio_Categoria']"
   ]
  },
  {
   "cell_type": "markdown",
   "metadata": {},
   "source": [
    "Validación cruzada"
   ]
  },
  {
   "cell_type": "code",
   "execution_count": null,
   "metadata": {},
   "outputs": [
    {
     "name": "stdout",
     "output_type": "stream",
     "text": [
      "Validación Cruzada\n",
      "RMSE Scores for Precio_Categoria: [0.67120916 0.66027562 0.68067049 0.67760648 0.69307366]\n",
      "RMSE Mean for Precio_Categoria: 0.6765670790744973\n",
      "RMSE Standard Deviation for Precio_Categoria: 0.010812072028990139\n"
     ]
    }
   ],
   "source": [
    "from sklearn.model_selection import cross_val_score\n",
    "from sklearn.linear_model import LinearRegression\n",
    "import numpy as np\n",
    "\n",
    "X = houses_df.drop(['Precio_Categoria'], axis=1)\n",
    "\n",
    "# Crear las etiquetas para cada modelo\n",
    "y1 = houses_df['Precio_Categoria']\n",
    "\n",
    "# Crear los modelos\n",
    "model1 = LinearRegression()\n",
    "\n",
    "# Realizar la validación cruzada \n",
    "scores1 = cross_val_score(model1, X, y1, cv=5, scoring='neg_mean_squared_error')\n",
    "\n",
    "# Tomar la raíz cuadrada y hacer positivo (porque cross_val_score devuelve valores negativos para MSE)\n",
    "rmse_scores1 = np.sqrt(-scores1)\n",
    "\n",
    "# Imprimir los valores de RMSE\n",
    "print(\"Validación Cruzada\")\n",
    "print(\"RMSE Scores for Precio_Categoria:\", rmse_scores1)\n",
    "print(\"RMSE Mean for Precio_Categoria:\", rmse_scores1.mean())\n",
    "print(\"RMSE Standard Deviation for Precio_Categoria:\", rmse_scores1.std())"
   ]
  },
  {
   "cell_type": "code",
   "execution_count": null,
   "metadata": {},
   "outputs": [
    {
     "name": "stdout",
     "output_type": "stream",
     "text": [
      "Validación Cruzada\n",
      "RMSE Scores for SalePrice: [27852.15120211 32992.62911514 35784.34524141 28644.09008407\n",
      " 46463.41736539]\n",
      "RMSE Mean for SalePrice: 34347.32660162411\n",
      "RMSE Standard Deviation for SalePrice: 6714.374036233998\n"
     ]
    }
   ],
   "source": [
    "from sklearn.model_selection import cross_val_score\n",
    "from sklearn.linear_model import LinearRegression\n",
    "import numpy as np\n",
    "\n",
    "X = houses_df.drop(['SalePrice'], axis=1)\n",
    "\n",
    "# Crear las etiquetas para cada modelo\n",
    "y2 = houses_df['SalePrice']\n",
    "\n",
    "# Crear los modelos\n",
    "model2 = LinearRegression()\n",
    "\n",
    "# Realizar la validación cruzada \n",
    "scores2 = cross_val_score(model2, X, y2, cv=5, scoring='neg_mean_squared_error')\n",
    "\n",
    "# Tomar la raíz cuadrada y hacer positivo (porque cross_val_score devuelve valores negativos para MSE)\n",
    "rmse_scores2 = np.sqrt(-scores2)\n",
    "\n",
    "# Imprimir los valores de RMSE\n",
    "print(\"Validación Cruzada\")\n",
    "print(\"RMSE Scores for SalePrice:\", rmse_scores2)\n",
    "print(\"RMSE Mean for SalePrice:\", rmse_scores2.mean())\n",
    "print(\"RMSE Standard Deviation for SalePrice:\", rmse_scores2.std())"
   ]
  },
  {
   "cell_type": "code",
   "execution_count": null,
   "metadata": {},
   "outputs": [],
   "source": [
    "# Define the target\n",
    "y = houses_df.pop('Precio_Categoria')\n",
    "\n",
    "# Remove the target from the current DataFrame\n",
    "X = houses_df\n",
    "random.seed(1234)"
   ]
  },
  {
   "cell_type": "code",
   "execution_count": null,
   "metadata": {},
   "outputs": [],
   "source": [
    "X_train, X_test,y_train, y_test = train_test_split(X, y,test_size=0.3,train_size=0.7)"
   ]
  },
  {
   "cell_type": "code",
   "execution_count": null,
   "metadata": {},
   "outputs": [],
   "source": [
    "gaussian = GaussianNB()\n",
    "gaussian.fit(X_train,y_train)\n",
    "y_pred = gaussian.predict(X_test)\n",
    "cm = confusion_matrix(y_test,y_pred)"
   ]
  },
  {
   "cell_type": "code",
   "execution_count": null,
   "metadata": {},
   "outputs": [
    {
     "name": "stdout",
     "output_type": "stream",
     "text": [
      "Confusion matrix for Naive Bayes\n",
      " [[120   2  12]\n",
      " [  4 139  10]\n",
      " [  9  54  88]]\n",
      "Accuracy:  0.7922374429223744\n"
     ]
    },
    {
     "data": {
      "image/png": "[encoded data removed]",
      "text/plain": [
       "<Figure size 1500x900 with 2 Axes>"
      ]
     },
     "metadata": {},
     "output_type": "display_data"
    }
   ],
   "source": [
    "from sklearn.metrics import confusion_matrix, accuracy_score, precision_score, recall_score, f1_score\n",
    "import seaborn as sns\n",
    "\n",
    "# Calcular la matriz de confusión\n",
    "cm = confusion_matrix(y_test, y_pred)\n",
    "\n",
    "accuracy=accuracy_score(y_test,y_pred)\n",
    "precision =precision_score(y_test, y_pred,average='micro')\n",
    "recall =  recall_score(y_test, y_pred,average='micro')\n",
    "f1 = f1_score(y_test,y_pred,average='micro')\n",
    "print('Confusion matrix for Naive Bayes\\n',cm)\n",
    "print('Accuracy: ',accuracy)\n",
    "\n",
    "# Visualizar la matriz de confusión\n",
    "sns.heatmap(cm, annot=True, cmap=\"Blues\", fmt=\"d\")\n",
    "plt.title('Matriz de Confusión para Naive Bayes')\n",
    "plt.xlabel('Etiqueta Predicha')\n",
    "plt.ylabel('Etiqueta Verdadera')\n",
    "plt.show()"
   ]
  },
  {
   "cell_type": "markdown",
   "metadata": {},
   "source": [
    "Realizamos cross validation de los datos para tunear nuestra predicción"
   ]
  },
  {
   "cell_type": "code",
   "execution_count": null,
   "metadata": {},
   "outputs": [
    {
     "data": {
      "text/plain": [
       "{'regressor__var_smoothing': 0.0657933224657568}"
      ]
     },
     "execution_count": 522,
     "metadata": {},
     "output_type": "execute_result"
    }
   ],
   "source": [
    "params =  [{\n",
    "    \"regressor__var_smoothing\": np.logspace(0,-9, num=100)\n",
    "}]\n",
    "modelo = GridSearchCV(pipeline,param_grid=params,n_jobs=2, cv=5,scoring=\"neg_root_mean_squared_error\")\n",
    "modelo.fit(X_train,y_train)\n",
    "modelo.best_params_"
   ]
  },
  {
   "cell_type": "code",
   "execution_count": null,
   "metadata": {},
   "outputs": [
    {
     "name": "stdout",
     "output_type": "stream",
     "text": [
      "Pipeline(steps=[('preprocessor',\n",
      "                 ColumnTransformer(transformers=[('one-hot-encoder',\n",
      "                                                  OneHotEncoder(handle_unknown='ignore'),\n",
      "                                                  []),\n",
      "                                                 ('standar-scaler',\n",
      "                                                  StandardScaler(),\n",
      "                                                  ['Id', 'MSSubClass',\n",
      "                                                   'MSZoning', 'LotFrontage',\n",
      "                                                   'LotArea', 'Street', 'Alley',\n",
      "                                                   'LotShape', 'LandContour',\n",
      "                                                   'Utilities', 'LotConfig',\n",
      "                                                   'LandSlope', 'Neighborhood',\n",
      "                                                   'Condition1', 'Condition2',\n",
      "                                                   'BldgType', 'HouseStyle',\n",
      "                                                   'OverallQual', 'OverallCond',\n",
      "                                                   'YearBuilt', 'YearRemodAdd',\n",
      "                                                   'RoofStyle', 'RoofMatl',\n",
      "                                                   'Exterior1st', 'Exterior2nd',\n",
      "                                                   'MasVnrType', 'MasVnrArea',\n",
      "                                                   'ExterQual', 'ExterCond',\n",
      "                                                   'Foundation', ...])])),\n",
      "                ('regressor', GaussianNB(var_smoothing=0.0657933224657568))])\n",
      "best score:\n",
      "-0.7639807008970848\n"
     ]
    }
   ],
   "source": [
    "print(modelo.best_estimator_)\n",
    "print('best score:')\n",
    "print(modelo.best_score_)\n",
    "y_mejor_pred = modelo.best_estimator_.predict(X_test)"
   ]
  },
  {
   "cell_type": "code",
   "execution_count": null,
   "metadata": {},
   "outputs": [
    {
     "name": "stdout",
     "output_type": "stream",
     "text": [
      "Valor mínimo:  0\n",
      "Valor máximo:  2\n",
      "Desviación estándar:  0.8163426784978834\n",
      "Valor RMSE:  0.7087193415046826\n"
     ]
    }
   ],
   "source": [
    "minimo = y.min()\n",
    "print(\"Valor mínimo: \", minimo)\n",
    "maximo = y.max()\n",
    "print(\"Valor máximo: \", maximo)\n",
    "\n",
    "std_dev = np.std(y)\n",
    "print(\"Desviación estándar: \", std_dev)\n",
    "\n",
    "rmse_tunned = root_mean_squared_error(y_test,y_mejor_pred)\n",
    "print(\"Valor RMSE: \", rmse_tunned)"
   ]
  },
  {
   "cell_type": "markdown",
   "metadata": {},
   "source": [
    "Eficiencia del modelo"
   ]
  },
  {
   "cell_type": "code",
   "execution_count": null,
   "metadata": {},
   "outputs": [],
   "source": [
    "modelo = pipeline.fit(X_train,y_train)\n",
    "y_pred = modelo.predict(X_test)\n",
    "rmse = root_mean_squared_error(y_test,y_pred)\n"
   ]
  },
  {
   "cell_type": "code",
   "execution_count": null,
   "metadata": {},
   "outputs": [
    {
     "name": "stdout",
     "output_type": "stream",
     "text": [
      "Valor mínimo:  0\n",
      "Valor máximo:  2\n",
      "Desviación estándar:  0.8163426784978834\n",
      "Valor RMSE:  0.7309217299700876\n"
     ]
    }
   ],
   "source": [
    "minimo = y.min()\n",
    "print(\"Valor mínimo: \", minimo)\n",
    "maximo = y.max()\n",
    "print(\"Valor máximo: \", maximo)\n",
    "\n",
    "std_dev = np.std(y)\n",
    "print(\"Desviación estándar: \", std_dev)\n",
    "\n",
    "print(\"Valor RMSE: \", rmse)"
   ]
  }
 ],
 "metadata": {
  "kernelspec": {
   "display_name": "Python 3",
   "language": "python",
   "name": "python3"
  },
  "language_info": {
   "codemirror_mode": {
    "name": "ipython",
    "version": 3
   },
   "file_extension": ".py",
   "mimetype": "text/x-python",
   "name": "python",
   "nbconvert_exporter": "python",
   "pygments_lexer": "ipython3",
   "version": "3.9.6"
  }
 },
 "nbformat": 4,
 "nbformat_minor": 2
}
